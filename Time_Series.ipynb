{
  "nbformat": 4,
  "nbformat_minor": 0,
  "metadata": {
    "colab": {
      "name": "Time_Series",
      "provenance": [],
      "collapsed_sections": [],
      "authorship_tag": "ABX9TyMPwpxSlQB2FmNntSBZ8Ux4",
      "include_colab_link": true
    },
    "kernelspec": {
      "name": "python3",
      "display_name": "Python 3"
    },
    "language_info": {
      "name": "python"
    }
  },
  "cells": [
    {
      "cell_type": "markdown",
      "metadata": {
        "id": "view-in-github",
        "colab_type": "text"
      },
      "source": [
        "<a href=\"https://colab.research.google.com/github/vishalk31/Tensorflow-Specialization/blob/main/Time_Series.ipynb\" target=\"_parent\"><img src=\"https://colab.research.google.com/assets/colab-badge.svg\" alt=\"Open In Colab\"/></a>"
      ]
    },
    {
      "cell_type": "code",
      "execution_count": null,
      "metadata": {
        "id": "ub7G324gdX5_"
      },
      "outputs": [],
      "source": [
        "import tensorflow as tf\n",
        "import pandas as pd"
      ]
    },
    {
      "cell_type": "markdown",
      "source": [
        "# Dataset Creation\n",
        "    Data Set consists of 10 sample starts from 0 to 9 \n",
        "    input data will be in range of (0,9)\n",
        "    output values logic is given below\n",
        "    output = input + input * 2\n",
        "    example :\n",
        "      input value = 4\n",
        "      output = 4 + 4*2 = 4 + 8 = 12\n",
        "      "
      ],
      "metadata": {
        "id": "yL-qd7Gdl0VX"
      }
    },
    {
      "cell_type": "code",
      "source": [
        "final_value = []\n",
        "for values in range (10):\n",
        "  output_value = values + 2*values\n",
        "  final_value.append((values,output_value))\n",
        "\n",
        "data_set = pd.DataFrame(final_value,columns=[\"input\",\"output\"])\n",
        "data_set.head(5)\n"
      ],
      "metadata": {
        "colab": {
          "base_uri": "https://localhost:8080/",
          "height": 206
        },
        "id": "irBdxY6RdnmG",
        "outputId": "0be75f42-4c8d-4076-b25c-4907ee310dbc"
      },
      "execution_count": null,
      "outputs": [
        {
          "output_type": "execute_result",
          "data": {
            "text/plain": [
              "   input  output\n",
              "0      0       0\n",
              "1      1       3\n",
              "2      2       6\n",
              "3      3       9\n",
              "4      4      12"
            ],
            "text/html": [
              "\n",
              "  <div id=\"df-0b152aac-20b7-4235-b6c3-34c0cf58bd5f\">\n",
              "    <div class=\"colab-df-container\">\n",
              "      <div>\n",
              "<style scoped>\n",
              "    .dataframe tbody tr th:only-of-type {\n",
              "        vertical-align: middle;\n",
              "    }\n",
              "\n",
              "    .dataframe tbody tr th {\n",
              "        vertical-align: top;\n",
              "    }\n",
              "\n",
              "    .dataframe thead th {\n",
              "        text-align: right;\n",
              "    }\n",
              "</style>\n",
              "<table border=\"1\" class=\"dataframe\">\n",
              "  <thead>\n",
              "    <tr style=\"text-align: right;\">\n",
              "      <th></th>\n",
              "      <th>input</th>\n",
              "      <th>output</th>\n",
              "    </tr>\n",
              "  </thead>\n",
              "  <tbody>\n",
              "    <tr>\n",
              "      <th>0</th>\n",
              "      <td>0</td>\n",
              "      <td>0</td>\n",
              "    </tr>\n",
              "    <tr>\n",
              "      <th>1</th>\n",
              "      <td>1</td>\n",
              "      <td>3</td>\n",
              "    </tr>\n",
              "    <tr>\n",
              "      <th>2</th>\n",
              "      <td>2</td>\n",
              "      <td>6</td>\n",
              "    </tr>\n",
              "    <tr>\n",
              "      <th>3</th>\n",
              "      <td>3</td>\n",
              "      <td>9</td>\n",
              "    </tr>\n",
              "    <tr>\n",
              "      <th>4</th>\n",
              "      <td>4</td>\n",
              "      <td>12</td>\n",
              "    </tr>\n",
              "  </tbody>\n",
              "</table>\n",
              "</div>\n",
              "      <button class=\"colab-df-convert\" onclick=\"convertToInteractive('df-0b152aac-20b7-4235-b6c3-34c0cf58bd5f')\"\n",
              "              title=\"Convert this dataframe to an interactive table.\"\n",
              "              style=\"display:none;\">\n",
              "        \n",
              "  <svg xmlns=\"http://www.w3.org/2000/svg\" height=\"24px\"viewBox=\"0 0 24 24\"\n",
              "       width=\"24px\">\n",
              "    <path d=\"M0 0h24v24H0V0z\" fill=\"none\"/>\n",
              "    <path d=\"M18.56 5.44l.94 2.06.94-2.06 2.06-.94-2.06-.94-.94-2.06-.94 2.06-2.06.94zm-11 1L8.5 8.5l.94-2.06 2.06-.94-2.06-.94L8.5 2.5l-.94 2.06-2.06.94zm10 10l.94 2.06.94-2.06 2.06-.94-2.06-.94-.94-2.06-.94 2.06-2.06.94z\"/><path d=\"M17.41 7.96l-1.37-1.37c-.4-.4-.92-.59-1.43-.59-.52 0-1.04.2-1.43.59L10.3 9.45l-7.72 7.72c-.78.78-.78 2.05 0 2.83L4 21.41c.39.39.9.59 1.41.59.51 0 1.02-.2 1.41-.59l7.78-7.78 2.81-2.81c.8-.78.8-2.07 0-2.86zM5.41 20L4 18.59l7.72-7.72 1.47 1.35L5.41 20z\"/>\n",
              "  </svg>\n",
              "      </button>\n",
              "      \n",
              "  <style>\n",
              "    .colab-df-container {\n",
              "      display:flex;\n",
              "      flex-wrap:wrap;\n",
              "      gap: 12px;\n",
              "    }\n",
              "\n",
              "    .colab-df-convert {\n",
              "      background-color: #E8F0FE;\n",
              "      border: none;\n",
              "      border-radius: 50%;\n",
              "      cursor: pointer;\n",
              "      display: none;\n",
              "      fill: #1967D2;\n",
              "      height: 32px;\n",
              "      padding: 0 0 0 0;\n",
              "      width: 32px;\n",
              "    }\n",
              "\n",
              "    .colab-df-convert:hover {\n",
              "      background-color: #E2EBFA;\n",
              "      box-shadow: 0px 1px 2px rgba(60, 64, 67, 0.3), 0px 1px 3px 1px rgba(60, 64, 67, 0.15);\n",
              "      fill: #174EA6;\n",
              "    }\n",
              "\n",
              "    [theme=dark] .colab-df-convert {\n",
              "      background-color: #3B4455;\n",
              "      fill: #D2E3FC;\n",
              "    }\n",
              "\n",
              "    [theme=dark] .colab-df-convert:hover {\n",
              "      background-color: #434B5C;\n",
              "      box-shadow: 0px 1px 3px 1px rgba(0, 0, 0, 0.15);\n",
              "      filter: drop-shadow(0px 1px 2px rgba(0, 0, 0, 0.3));\n",
              "      fill: #FFFFFF;\n",
              "    }\n",
              "  </style>\n",
              "\n",
              "      <script>\n",
              "        const buttonEl =\n",
              "          document.querySelector('#df-0b152aac-20b7-4235-b6c3-34c0cf58bd5f button.colab-df-convert');\n",
              "        buttonEl.style.display =\n",
              "          google.colab.kernel.accessAllowed ? 'block' : 'none';\n",
              "\n",
              "        async function convertToInteractive(key) {\n",
              "          const element = document.querySelector('#df-0b152aac-20b7-4235-b6c3-34c0cf58bd5f');\n",
              "          const dataTable =\n",
              "            await google.colab.kernel.invokeFunction('convertToInteractive',\n",
              "                                                     [key], {});\n",
              "          if (!dataTable) return;\n",
              "\n",
              "          const docLinkHtml = 'Like what you see? Visit the ' +\n",
              "            '<a target=\"_blank\" href=https://colab.research.google.com/notebooks/data_table.ipynb>data table notebook</a>'\n",
              "            + ' to learn more about interactive tables.';\n",
              "          element.innerHTML = '';\n",
              "          dataTable['output_type'] = 'display_data';\n",
              "          await google.colab.output.renderOutput(dataTable, element);\n",
              "          const docLink = document.createElement('div');\n",
              "          docLink.innerHTML = docLinkHtml;\n",
              "          element.appendChild(docLink);\n",
              "        }\n",
              "      </script>\n",
              "    </div>\n",
              "  </div>\n",
              "  "
            ]
          },
          "metadata": {},
          "execution_count": 57
        }
      ]
    },
    {
      "cell_type": "markdown",
      "source": [
        "**Model Creation**\n",
        "# Model Summary\n",
        "    Model is a simple neural network consists of two dense layers \n",
        "    (64 hidden units, 1 output hidden unit)\n",
        "    optimizer used = adam and loss = Mean Square error\n",
        "    epochs = 100\n",
        "    \n"
      ],
      "metadata": {
        "id": "lcB0FNPunkdJ"
      }
    },
    {
      "cell_type": "code",
      "source": [
        "model = tf.keras.Sequential()\n",
        "model.add(tf.keras.layers.Dense(64))\n",
        "model.add(tf.keras.layers.Dense(1))\n",
        "model.compile(optimizer=\"Adam\",loss =\"mae\") \n",
        "history = model.fit(data_set[\"input\"], data_set[\"output\"],epochs =100)"
      ],
      "metadata": {
        "colab": {
          "base_uri": "https://localhost:8080/"
        },
        "id": "6maGCRuAekiO",
        "outputId": "1e2d1f47-71cd-451d-cfff-5c641db080d7"
      },
      "execution_count": null,
      "outputs": [
        {
          "output_type": "stream",
          "name": "stdout",
          "text": [
            "Epoch 1/100\n",
            "1/1 [==============================] - 0s 324ms/step - loss: 14.6295\n",
            "Epoch 2/100\n",
            "1/1 [==============================] - 0s 7ms/step - loss: 14.5275\n",
            "Epoch 3/100\n",
            "1/1 [==============================] - 0s 8ms/step - loss: 14.4257\n",
            "Epoch 4/100\n",
            "1/1 [==============================] - 0s 10ms/step - loss: 14.3240\n",
            "Epoch 5/100\n",
            "1/1 [==============================] - 0s 7ms/step - loss: 14.2224\n",
            "Epoch 6/100\n",
            "1/1 [==============================] - 0s 9ms/step - loss: 14.1210\n",
            "Epoch 7/100\n",
            "1/1 [==============================] - 0s 7ms/step - loss: 14.0198\n",
            "Epoch 8/100\n",
            "1/1 [==============================] - 0s 8ms/step - loss: 13.9186\n",
            "Epoch 9/100\n",
            "1/1 [==============================] - 0s 9ms/step - loss: 13.8176\n",
            "Epoch 10/100\n",
            "1/1 [==============================] - 0s 4ms/step - loss: 13.7166\n",
            "Epoch 11/100\n",
            "1/1 [==============================] - 0s 5ms/step - loss: 13.6158\n",
            "Epoch 12/100\n",
            "1/1 [==============================] - 0s 6ms/step - loss: 13.5150\n",
            "Epoch 13/100\n",
            "1/1 [==============================] - 0s 5ms/step - loss: 13.4143\n",
            "Epoch 14/100\n",
            "1/1 [==============================] - 0s 5ms/step - loss: 13.3137\n",
            "Epoch 15/100\n",
            "1/1 [==============================] - 0s 4ms/step - loss: 13.2131\n",
            "Epoch 16/100\n",
            "1/1 [==============================] - 0s 7ms/step - loss: 13.1126\n",
            "Epoch 17/100\n",
            "1/1 [==============================] - 0s 6ms/step - loss: 13.0122\n",
            "Epoch 18/100\n",
            "1/1 [==============================] - 0s 5ms/step - loss: 12.9118\n",
            "Epoch 19/100\n",
            "1/1 [==============================] - 0s 5ms/step - loss: 12.8114\n",
            "Epoch 20/100\n",
            "1/1 [==============================] - 0s 5ms/step - loss: 12.7111\n",
            "Epoch 21/100\n",
            "1/1 [==============================] - 0s 4ms/step - loss: 12.6107\n",
            "Epoch 22/100\n",
            "1/1 [==============================] - 0s 5ms/step - loss: 12.5104\n",
            "Epoch 23/100\n",
            "1/1 [==============================] - 0s 6ms/step - loss: 12.4100\n",
            "Epoch 24/100\n",
            "1/1 [==============================] - 0s 5ms/step - loss: 12.3096\n",
            "Epoch 25/100\n",
            "1/1 [==============================] - 0s 5ms/step - loss: 12.2092\n",
            "Epoch 26/100\n",
            "1/1 [==============================] - 0s 5ms/step - loss: 12.1087\n",
            "Epoch 27/100\n",
            "1/1 [==============================] - 0s 5ms/step - loss: 12.0081\n",
            "Epoch 28/100\n",
            "1/1 [==============================] - 0s 4ms/step - loss: 11.9075\n",
            "Epoch 29/100\n",
            "1/1 [==============================] - 0s 4ms/step - loss: 11.8067\n",
            "Epoch 30/100\n",
            "1/1 [==============================] - 0s 5ms/step - loss: 11.7059\n",
            "Epoch 31/100\n",
            "1/1 [==============================] - 0s 5ms/step - loss: 11.6050\n",
            "Epoch 32/100\n",
            "1/1 [==============================] - 0s 5ms/step - loss: 11.5039\n",
            "Epoch 33/100\n",
            "1/1 [==============================] - 0s 6ms/step - loss: 11.4027\n",
            "Epoch 34/100\n",
            "1/1 [==============================] - 0s 5ms/step - loss: 11.3013\n",
            "Epoch 35/100\n",
            "1/1 [==============================] - 0s 5ms/step - loss: 11.1997\n",
            "Epoch 36/100\n",
            "1/1 [==============================] - 0s 4ms/step - loss: 11.0980\n",
            "Epoch 37/100\n",
            "1/1 [==============================] - 0s 5ms/step - loss: 10.9960\n",
            "Epoch 38/100\n",
            "1/1 [==============================] - 0s 5ms/step - loss: 10.8939\n",
            "Epoch 39/100\n",
            "1/1 [==============================] - 0s 5ms/step - loss: 10.7915\n",
            "Epoch 40/100\n",
            "1/1 [==============================] - 0s 5ms/step - loss: 10.6889\n",
            "Epoch 41/100\n",
            "1/1 [==============================] - 0s 6ms/step - loss: 10.5860\n",
            "Epoch 42/100\n",
            "1/1 [==============================] - 0s 4ms/step - loss: 10.4828\n",
            "Epoch 43/100\n",
            "1/1 [==============================] - 0s 5ms/step - loss: 10.3794\n",
            "Epoch 44/100\n",
            "1/1 [==============================] - 0s 8ms/step - loss: 10.2757\n",
            "Epoch 45/100\n",
            "1/1 [==============================] - 0s 6ms/step - loss: 10.1717\n",
            "Epoch 46/100\n",
            "1/1 [==============================] - 0s 5ms/step - loss: 10.0673\n",
            "Epoch 47/100\n",
            "1/1 [==============================] - 0s 6ms/step - loss: 9.9626\n",
            "Epoch 48/100\n",
            "1/1 [==============================] - 0s 6ms/step - loss: 9.8576\n",
            "Epoch 49/100\n",
            "1/1 [==============================] - 0s 5ms/step - loss: 9.7522\n",
            "Epoch 50/100\n",
            "1/1 [==============================] - 0s 5ms/step - loss: 9.6465\n",
            "Epoch 51/100\n",
            "1/1 [==============================] - 0s 6ms/step - loss: 9.5404\n",
            "Epoch 52/100\n",
            "1/1 [==============================] - 0s 6ms/step - loss: 9.4338\n",
            "Epoch 53/100\n",
            "1/1 [==============================] - 0s 5ms/step - loss: 9.3269\n",
            "Epoch 54/100\n",
            "1/1 [==============================] - 0s 4ms/step - loss: 9.2195\n",
            "Epoch 55/100\n",
            "1/1 [==============================] - 0s 8ms/step - loss: 9.1118\n",
            "Epoch 56/100\n",
            "1/1 [==============================] - 0s 5ms/step - loss: 9.0035\n",
            "Epoch 57/100\n",
            "1/1 [==============================] - 0s 5ms/step - loss: 8.8948\n",
            "Epoch 58/100\n",
            "1/1 [==============================] - 0s 5ms/step - loss: 8.7857\n",
            "Epoch 59/100\n",
            "1/1 [==============================] - 0s 5ms/step - loss: 8.6761\n",
            "Epoch 60/100\n",
            "1/1 [==============================] - 0s 5ms/step - loss: 8.5660\n",
            "Epoch 61/100\n",
            "1/1 [==============================] - 0s 5ms/step - loss: 8.4554\n",
            "Epoch 62/100\n",
            "1/1 [==============================] - 0s 5ms/step - loss: 8.3443\n",
            "Epoch 63/100\n",
            "1/1 [==============================] - 0s 4ms/step - loss: 8.2327\n",
            "Epoch 64/100\n",
            "1/1 [==============================] - 0s 5ms/step - loss: 8.1205\n",
            "Epoch 65/100\n",
            "1/1 [==============================] - 0s 6ms/step - loss: 8.0078\n",
            "Epoch 66/100\n",
            "1/1 [==============================] - 0s 4ms/step - loss: 7.8946\n",
            "Epoch 67/100\n",
            "1/1 [==============================] - 0s 4ms/step - loss: 7.7808\n",
            "Epoch 68/100\n",
            "1/1 [==============================] - 0s 6ms/step - loss: 7.6664\n",
            "Epoch 69/100\n",
            "1/1 [==============================] - 0s 4ms/step - loss: 7.5515\n",
            "Epoch 70/100\n",
            "1/1 [==============================] - 0s 4ms/step - loss: 7.4360\n",
            "Epoch 71/100\n",
            "1/1 [==============================] - 0s 4ms/step - loss: 7.3199\n",
            "Epoch 72/100\n",
            "1/1 [==============================] - 0s 5ms/step - loss: 7.2031\n",
            "Epoch 73/100\n",
            "1/1 [==============================] - 0s 4ms/step - loss: 7.0858\n",
            "Epoch 74/100\n",
            "1/1 [==============================] - 0s 4ms/step - loss: 6.9678\n",
            "Epoch 75/100\n",
            "1/1 [==============================] - 0s 4ms/step - loss: 6.8492\n",
            "Epoch 76/100\n",
            "1/1 [==============================] - 0s 4ms/step - loss: 6.7300\n",
            "Epoch 77/100\n",
            "1/1 [==============================] - 0s 4ms/step - loss: 6.6101\n",
            "Epoch 78/100\n",
            "1/1 [==============================] - 0s 4ms/step - loss: 6.4896\n",
            "Epoch 79/100\n",
            "1/1 [==============================] - 0s 4ms/step - loss: 6.3683\n",
            "Epoch 80/100\n",
            "1/1 [==============================] - 0s 6ms/step - loss: 6.2464\n",
            "Epoch 81/100\n",
            "1/1 [==============================] - 0s 5ms/step - loss: 6.1238\n",
            "Epoch 82/100\n",
            "1/1 [==============================] - 0s 5ms/step - loss: 6.0005\n",
            "Epoch 83/100\n",
            "1/1 [==============================] - 0s 5ms/step - loss: 5.8765\n",
            "Epoch 84/100\n",
            "1/1 [==============================] - 0s 5ms/step - loss: 5.7518\n",
            "Epoch 85/100\n",
            "1/1 [==============================] - 0s 5ms/step - loss: 5.6264\n",
            "Epoch 86/100\n",
            "1/1 [==============================] - 0s 5ms/step - loss: 5.5002\n",
            "Epoch 87/100\n",
            "1/1 [==============================] - 0s 5ms/step - loss: 5.3733\n",
            "Epoch 88/100\n",
            "1/1 [==============================] - 0s 5ms/step - loss: 5.2456\n",
            "Epoch 89/100\n",
            "1/1 [==============================] - 0s 5ms/step - loss: 5.1172\n",
            "Epoch 90/100\n",
            "1/1 [==============================] - 0s 5ms/step - loss: 4.9880\n",
            "Epoch 91/100\n",
            "1/1 [==============================] - 0s 5ms/step - loss: 4.8581\n",
            "Epoch 92/100\n",
            "1/1 [==============================] - 0s 5ms/step - loss: 4.7273\n",
            "Epoch 93/100\n",
            "1/1 [==============================] - 0s 5ms/step - loss: 4.5958\n",
            "Epoch 94/100\n",
            "1/1 [==============================] - 0s 6ms/step - loss: 4.4634\n",
            "Epoch 95/100\n",
            "1/1 [==============================] - 0s 6ms/step - loss: 4.3320\n",
            "Epoch 96/100\n",
            "1/1 [==============================] - 0s 6ms/step - loss: 4.2076\n",
            "Epoch 97/100\n",
            "1/1 [==============================] - 0s 6ms/step - loss: 4.0830\n",
            "Epoch 98/100\n",
            "1/1 [==============================] - 0s 6ms/step - loss: 3.9582\n",
            "Epoch 99/100\n",
            "1/1 [==============================] - 0s 6ms/step - loss: 3.8332\n",
            "Epoch 100/100\n",
            "1/1 [==============================] - 0s 6ms/step - loss: 3.7078\n"
          ]
        }
      ]
    },
    {
      "cell_type": "code",
      "source": [
        "print(model.summary())"
      ],
      "metadata": {
        "colab": {
          "base_uri": "https://localhost:8080/"
        },
        "id": "QSVMaKITo6v4",
        "outputId": "7fc06d31-f4de-45e7-b5a7-82783a185daf"
      },
      "execution_count": null,
      "outputs": [
        {
          "output_type": "stream",
          "name": "stdout",
          "text": [
            "Model: \"sequential_9\"\n",
            "_________________________________________________________________\n",
            " Layer (type)                Output Shape              Param #   \n",
            "=================================================================\n",
            " dense_13 (Dense)            (None, 64)                128       \n",
            "                                                                 \n",
            " dense_14 (Dense)            (None, 1)                 65        \n",
            "                                                                 \n",
            "=================================================================\n",
            "Total params: 193\n",
            "Trainable params: 193\n",
            "Non-trainable params: 0\n",
            "_________________________________________________________________\n",
            "None\n"
          ]
        }
      ]
    },
    {
      "cell_type": "code",
      "source": [
        "import matplotlib.pyplot as plt\n",
        "loss_train = history.history['loss']\n",
        "#loss_val = history.history['val_loss']\n",
        "epochs = range(100)\n",
        "plt.plot( loss_train, epochs,'g', label='Training loss')\n",
        "#plt.plot(epochs, loss_val, 'b', label='validation loss')\n",
        "plt.title('Training and Validation loss')\n",
        "plt.xlabel('Epochs')\n",
        "plt.ylabel('Loss')\n",
        "plt.legend()\n",
        "plt.show()"
      ],
      "metadata": {
        "colab": {
          "base_uri": "https://localhost:8080/",
          "height": 295
        },
        "id": "hEayFCM5pYsg",
        "outputId": "f6bbb274-9072-4d9c-af73-d2999ac13dd3"
      },
      "execution_count": null,
      "outputs": [
        {
          "output_type": "display_data",
          "data": {
            "text/plain": [
              "<Figure size 432x288 with 1 Axes>"
            ],
            "image/png": "[encoded data removed]"
          },
          "metadata": {
            "needs_background": "light"
          }
        }
      ]
    },
    {
      "cell_type": "markdown",
      "source": [
        ""
      ],
      "metadata": {
        "id": "uPzypxbDoj5-"
      }
    },
    {
      "cell_type": "code",
      "source": [
        "model.predict([9])"
      ],
      "metadata": {
        "colab": {
          "base_uri": "https://localhost:8080/"
        },
        "id": "PT9ECqjpfgjE",
        "outputId": "52b1c306-cb9f-4f0d-dc6a-8ea79cf34cda"
      },
      "execution_count": null,
      "outputs": [
        {
          "output_type": "execute_result",
          "data": {
            "text/plain": [
              "array([[23.351158]], dtype=float32)"
            ]
          },
          "metadata": {},
          "execution_count": 43
        }
      ]
    },
    {
      "cell_type": "code",
      "source": [
        ""
      ],
      "metadata": {
        "id": "IE24MBFIglnF"
      },
      "execution_count": null,
      "outputs": []
    }
  ]
}