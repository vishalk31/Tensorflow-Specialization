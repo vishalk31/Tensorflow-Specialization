{
  "cells": [
    {
      "cell_type": "markdown",
      "metadata": {
        "id": "view-in-github",
        "colab_type": "text"
      },
      "source": [
        "<a href=\"https://colab.research.google.com/github/vishalk31/Tensorflow-Specialization/blob/main/lyrics_generator.ipynb\" target=\"_parent\"><img src=\"https://colab.research.google.com/assets/colab-badge.svg\" alt=\"Open In Colab\"/></a>"
      ]
    },
    {
      "cell_type": "code",
      "execution_count": 1,
      "id": "d0cf2e7a",
      "metadata": {
        "id": "d0cf2e7a"
      },
      "outputs": [],
      "source": [
        "import tensorflow as tf\n",
        "import pandas as pd\n",
        "#from tensorflow.keras.preprocessing.text import Tokenizer"
      ]
    },
    {
      "cell_type": "code",
      "execution_count": 2,
      "id": "bed42626",
      "metadata": {
        "id": "bed42626"
      },
      "outputs": [],
      "source": [
        "song_dataframe = pd.read_excel(\"Song_lyrics.xlsx\")"
      ]
    },
    {
      "cell_type": "code",
      "execution_count": 3,
      "id": "7e67f853",
      "metadata": {
        "id": "7e67f853"
      },
      "outputs": [],
      "source": [
        "song_dataframe =  song_dataframe[:500]"
      ]
    },
    {
      "cell_type": "code",
      "execution_count": 4,
      "id": "dadddcb2",
      "metadata": {
        "id": "dadddcb2"
      },
      "outputs": [],
      "source": [
        "final_song_Data  = []\n",
        "for songs in song_dataframe[\"Lyrics\"][:]:\n",
        "    #print(songs.split(\"\\n\"))\n",
        "    data = \" \".join(songs.split(\"\\n\"))\n",
        "    final_song_Data.append(data)\n",
        "    "
      ]
    },
    {
      "cell_type": "code",
      "execution_count": 5,
      "id": "7aca3a46",
      "metadata": {
        "id": "7aca3a46"
      },
      "outputs": [],
      "source": [
        "final_song_Data =\" \".join(final_song_Data)\n",
        "final_song_Data = final_song_Data.replace(\",\",\"\")\n",
        "final_song_Data = final_song_Data.replace(\"!\",\"\")\n",
        "final_song_Data = final_song_Data.replace(\".\",\"\")\n",
        "final_song_Data = final_song_Data.split(\" \")"
      ]
    },
    {
      "cell_type": "code",
      "execution_count": 6,
      "id": "ebbd87e9",
      "metadata": {
        "id": "ebbd87e9"
      },
      "outputs": [],
      "source": [
        "final_song_Data = [values for values in final_song_Data if len(values)>1 ]"
      ]
    },
    {
      "cell_type": "code",
      "execution_count": 7,
      "id": "b27ad85d",
      "metadata": {
        "id": "b27ad85d"
      },
      "outputs": [],
      "source": [
        "counter = 0\n",
        "train_set = []\n",
        "train_label = []\n",
        "train_data_avail = \"\"\n",
        "for index,lyrics in enumerate(final_song_Data[:len(final_song_Data)-1]):\n",
        "    #print(index,lyrics)\n",
        "    if counter != 100 :\n",
        "        train_data_avail = train_data_avail+\" \"+lyrics\n",
        "        train_set.append(train_data_avail)\n",
        "        train_label.append(final_song_Data[index+1])\n",
        "        \n",
        "        \n",
        "    elif counter == 100:\n",
        "        train_data_avail = train_data_avail+\" \"+lyrics\n",
        "        train_set.append(train_data_avail)\n",
        "        train_label.append(final_song_Data[index+1])\n",
        "        train_data_avail = \"\"\n",
        "        counter = 0\n",
        "    \n",
        "    counter = counter+1\n",
        "        \n",
        "    "
      ]
    },
    {
      "cell_type": "code",
      "execution_count": 8,
      "id": "4ca19dd9",
      "metadata": {
        "id": "4ca19dd9"
      },
      "outputs": [],
      "source": [
        "from sklearn.feature_extraction.text import CountVectorizer\n",
        "#corpus = ['Text processing is necessary.', 'Text processing is necessary and important.', 'Text processing is easy.']\n",
        "vectorizer = CountVectorizer(ngram_range=(2, 2), max_features=100)\n",
        "X = vectorizer.fit_transform([\" \".join(final_song_Data)])\n",
        "#print(vectorizer.get_feature_names())"
      ]
    },
    {
      "cell_type": "code",
      "execution_count": 9,
      "id": "29bc2634",
      "metadata": {
        "id": "29bc2634"
      },
      "outputs": [],
      "source": [
        "train_input = vectorizer.transform(train_set).toarray()"
      ]
    },
    {
      "cell_type": "code",
      "execution_count": 10,
      "id": "03c9dc1f",
      "metadata": {
        "colab": {
          "base_uri": "https://localhost:8080/"
        },
        "id": "03c9dc1f",
        "outputId": "76a569e2-5834-4fa2-a02a-bf295309984d"
      },
      "outputs": [
        {
          "output_type": "execute_result",
          "data": {
            "text/plain": [
              "100"
            ]
          },
          "metadata": {},
          "execution_count": 10
        }
      ],
      "source": [
        "len(train_input[0])"
      ]
    },
    {
      "cell_type": "code",
      "execution_count": 11,
      "id": "0ddc4217",
      "metadata": {
        "id": "0ddc4217"
      },
      "outputs": [],
      "source": [
        "from sklearn import preprocessing\n",
        "le = preprocessing.LabelEncoder()\n",
        "train_output = le.fit_transform(train_label)"
      ]
    },
    {
      "cell_type": "code",
      "execution_count": 12,
      "id": "b8708a79",
      "metadata": {
        "id": "b8708a79"
      },
      "outputs": [],
      "source": [
        "import tensorflow as tf\n",
        "\n",
        "from tensorflow.keras.preprocessing.sequence import pad_sequences\n",
        "from tensorflow.keras.layers import Embedding, LSTM, Dense, Bidirectional\n",
        "from tensorflow.keras.preprocessing.text import Tokenizer\n",
        "from tensorflow.keras.models import Sequential\n",
        "from tensorflow.keras.optimizers import Adam\n",
        "import numpy as np "
      ]
    },
    {
      "cell_type": "code",
      "execution_count": 13,
      "id": "a3d7eb5b",
      "metadata": {
        "colab": {
          "base_uri": "https://localhost:8080/"
        },
        "id": "a3d7eb5b",
        "outputId": "8376f3af-2053-4154-cbbf-1cd9995f0c7b"
      },
      "outputs": [
        {
          "output_type": "stream",
          "name": "stdout",
          "text": [
            "Model: \"sequential\"\n",
            "_________________________________________________________________\n",
            " Layer (type)                Output Shape              Param #   \n",
            "=================================================================\n",
            " embedding (Embedding)       (None, 100, 16)           3414528   \n",
            "                                                                 \n",
            " bidirectional (Bidirectiona  (None, 64)               12544     \n",
            " l)                                                              \n",
            "                                                                 \n",
            " dense (Dense)               (None, 24)                1560      \n",
            "                                                                 \n",
            " dense_1 (Dense)             (None, 1)                 25        \n",
            "                                                                 \n",
            "=================================================================\n",
            "Total params: 3,428,657\n",
            "Trainable params: 3,428,657\n",
            "Non-trainable params: 0\n",
            "_________________________________________________________________\n"
          ]
        }
      ],
      "source": [
        "model = tf.keras.Sequential([\n",
        "    tf.keras.layers.Embedding(len(train_input), 16, input_length=len(train_input[0])),\n",
        "    tf.keras.layers.Bidirectional(tf.keras.layers.LSTM(32)),\n",
        "    tf.keras.layers.Dense(24, activation='relu'),\n",
        "    tf.keras.layers.Dense(1, activation='sigmoid')\n",
        "])\n",
        "model.compile(loss='binary_crossentropy',optimizer='adam',metrics=['accuracy'])\n",
        "model.summary()"
      ]
    },
    {
      "cell_type": "code",
      "execution_count": null,
      "id": "d5b74c20",
      "metadata": {
        "colab": {
          "base_uri": "https://localhost:8080/"
        },
        "id": "d5b74c20",
        "outputId": "f5309b4b-45b4-47a5-caee-c3dae7a0e6e7"
      },
      "outputs": [
        {
          "output_type": "stream",
          "name": "stdout",
          "text": [
            "Epoch 1/10\n",
            "6669/6669 [==============================] - 542s 81ms/step - loss: -64613308.0000 - accuracy: 4.6859e-05\n",
            "Epoch 2/10\n",
            "6669/6669 [==============================] - 548s 82ms/step - loss: -366931136.0000 - accuracy: 4.6859e-05\n",
            "Epoch 3/10\n",
            "6669/6669 [==============================] - 559s 84ms/step - loss: -891699648.0000 - accuracy: 4.6859e-05\n",
            "Epoch 4/10\n",
            "6669/6669 [==============================] - 557s 84ms/step - loss: -1630591872.0000 - accuracy: 4.6859e-05\n",
            "Epoch 5/10\n",
            "6669/6669 [==============================] - 556s 83ms/step - loss: -2581442816.0000 - accuracy: 4.6859e-05\n",
            "Epoch 6/10\n",
            "6669/6669 [==============================] - 559s 84ms/step - loss: -3742130688.0000 - accuracy: 4.6859e-05\n",
            "Epoch 7/10\n",
            "6669/6669 [==============================] - 562s 84ms/step - loss: -5111630336.0000 - accuracy: 4.6859e-05\n",
            "Epoch 8/10\n",
            "6669/6669 [==============================] - 570s 85ms/step - loss: -6689297920.0000 - accuracy: 4.6859e-05\n",
            "Epoch 9/10\n",
            "6669/6669 [==============================] - 572s 86ms/step - loss: -8474630656.0000 - accuracy: 4.6859e-05\n",
            "Epoch 10/10\n",
            "6609/6669 [============================>.] - ETA: 5s - loss: -10458809344.0000 - accuracy: 4.7284e-05"
          ]
        }
      ],
      "source": [
        "history = model.fit(train_input, train_output,epochs=10)"
      ]
    },
    {
      "cell_type": "code",
      "source": [
        "model.save(\"lyrics.h5\")      "
      ],
      "metadata": {
        "id": "ankVVt_AcMr5"
      },
      "id": "ankVVt_AcMr5",
      "execution_count": 16,
      "outputs": []
    },
    {
      "cell_type": "code",
      "source": [
        "import pickle\n",
        "with open('vectorizer.pk', 'wb') as fin:\n",
        "  pickle.dump(vectorizer, fin)"
      ],
      "metadata": {
        "id": "VwwS54YJyhAL"
      },
      "id": "VwwS54YJyhAL",
      "execution_count": 17,
      "outputs": []
    }
  ],
  "metadata": {
    "kernelspec": {
      "display_name": "Python 3 (ipykernel)",
      "language": "python",
      "name": "python3"
    },
    "language_info": {
      "codemirror_mode": {
        "name": "ipython",
        "version": 3
      },
      "file_extension": ".py",
      "mimetype": "text/x-python",
      "name": "python",
      "nbconvert_exporter": "python",
      "pygments_lexer": "ipython3",
      "version": "3.9.12"
    },
    "colab": {
      "name": "lyrics_generator.ipynb",
      "provenance": [],
      "collapsed_sections": [],
      "include_colab_link": true
    }
  },
  "nbformat": 4,
  "nbformat_minor": 5
}